{
 "cells": [
  {
   "cell_type": "markdown",
   "id": "7e74dba0",
   "metadata": {},
   "source": [
    "### AI Code Explainer plus Language Translator\n",
    "Technical question answering bot for code explaination and related queries plus language translator for the english output."
   ]
  },
  {
   "cell_type": "code",
   "execution_count": 1,
   "id": "309eb417",
   "metadata": {},
   "outputs": [
    {
     "name": "stderr",
     "output_type": "stream",
     "text": [
      "d:\\MyWorkD\\MyProject\\tfvenv\\Lib\\site-packages\\tqdm\\auto.py:21: TqdmWarning: IProgress not found. Please update jupyter and ipywidgets. See https://ipywidgets.readthedocs.io/en/stable/user_install.html\n",
      "  from .autonotebook import tqdm as notebook_tqdm\n"
     ]
    }
   ],
   "source": [
    "from openai import OpenAI\n",
    "import gradio as gr\n",
    "from dotenv import load_dotenv\n",
    "import os"
   ]
  },
  {
   "cell_type": "code",
   "execution_count": null,
   "id": "819311e8",
   "metadata": {},
   "outputs": [],
   "source": [
    "# Initializing\n",
    "\n",
    "load_dotenv(override=True)\n",
    "openai_api_key = os.getenv('OPENAI_API_KEY')\n",
    "    \n",
    "MODEL = \"gpt-4o-mini\"\n",
    "openai = OpenAI()\n",
    "\n",
    "openai_ollama = OpenAI(base_url='http://localhost:11434/v1', api_key='ollama')"
   ]
  },
  {
   "cell_type": "code",
   "execution_count": null,
   "id": "e1eebe17",
   "metadata": {},
   "outputs": [],
   "source": [
    "# Prompts\n",
    "\n",
    "system_prompt = \"\"\"You are an AI assistant and code expert that explains in brief within 300 words what certain lines of code does and why its written in that manner. \\\n",
    "                   Also point out if there is anything wrong with the code and provide the corrected code.\"\"\"\n",
    "user_prompt= \"Provide a short and detailed explaination on what the given code does and why :\""
   ]
  },
  {
   "cell_type": "code",
   "execution_count": null,
   "id": "41447906",
   "metadata": {},
   "outputs": [],
   "source": [
    "# Functions for chat interface.\n",
    "\n",
    "# Using GPT mode\n",
    "def get_ans_gpt(code):\n",
    "    stream = openai.chat.completions.create(\n",
    "        model= MODEL,\n",
    "        messages=[\n",
    "            {\"role\": \"system\", \"content\": system_prompt},\n",
    "            {\"role\": \"user\", \"content\": user_prompt+f\"\\n{code}\"}\n",
    "      ],\n",
    "        stream=True\n",
    "    )\n",
    "    response = \"\"\n",
    "    for chunk in stream:\n",
    "        response += chunk.choices[0].delta.content or ''\n",
    "        yield response\n",
    "\n",
    "# Using open source gemma model in ollama\n",
    "def get_ans_gemma(code):\n",
    "    stream = openai_ollama.chat.completions.create(\n",
    "        model='gemma3:1b',\n",
    "        messages=[\n",
    "            {\"role\": \"system\", \"content\": system_prompt},\n",
    "            {\"role\": \"user\", \"content\": user_prompt+f\"\\n{code}\"}\n",
    "      ],\n",
    "        stream=True\n",
    "    )\n",
    "    response = \"\"\n",
    "    for chunk in stream:\n",
    "        response += chunk.choices[0].delta.content or ''\n",
    "        yield response\n",
    "\n",
    "# Providing user the option to choose desired model.\n",
    "def stream_model(question, model):\n",
    "    if model== \"gpt\":\n",
    "        output= get_ans_gpt(question)\n",
    "    elif model== \"gemma\":\n",
    "        output= get_ans_gemma(question)\n",
    "    else:\n",
    "        raise ValueError('Unknown model')\n",
    "    yield from output"
   ]
  },
  {
   "cell_type": "code",
   "execution_count": 5,
   "id": "409cf7cc",
   "metadata": {},
   "outputs": [],
   "source": [
    "# User interface using Gradio\n",
    "\n",
    "ui= gr.Interface(\n",
    "    fn= stream_model,\n",
    "    inputs=[gr.Textbox(label=\"Your code to explain\"), gr.Dropdown(['llama','gemma'], label= \"Select model\", value=\"llama\")],\n",
    "    outputs=[gr.Markdown(label=\"Explaination\")],\n",
    "    flagging_mode= \"never\"\n",
    ")"
   ]
  },
  {
   "cell_type": "code",
   "execution_count": 10,
   "id": "26a0ab93",
   "metadata": {},
   "outputs": [
    {
     "name": "stdout",
     "output_type": "stream",
     "text": [
      "* Running on local URL:  http://127.0.0.1:7861\n",
      "* To create a public link, set `share=True` in `launch()`.\n"
     ]
    },
    {
     "data": {
      "text/html": [
       "<div><iframe src=\"http://127.0.0.1:7861/\" width=\"100%\" height=\"500\" allow=\"autoplay; camera; microphone; clipboard-read; clipboard-write;\" frameborder=\"0\" allowfullscreen></iframe></div>"
      ],
      "text/plain": [
       "<IPython.core.display.HTML object>"
      ]
     },
     "metadata": {},
     "output_type": "display_data"
    },
    {
     "data": {
      "text/plain": []
     },
     "execution_count": 10,
     "metadata": {},
     "output_type": "execute_result"
    }
   ],
   "source": [
    "ui.launch()"
   ]
  },
  {
   "cell_type": "markdown",
   "id": "78fc4edd",
   "metadata": {},
   "source": [
    "### Translate the chat to a different language"
   ]
  },
  {
   "cell_type": "code",
   "execution_count": null,
   "id": "af097356",
   "metadata": {},
   "outputs": [],
   "source": [
    "# Function for language translation with prompts\n",
    "\n",
    "def translate(msg,lang):\n",
    "\n",
    "    response = openai.chat.completions.create(model=MODEL,\n",
    "                                                     messages=[\n",
    "                {\"role\": \"system\", \"content\":\"You are a text translater that converts english texts to french and respond with only the converted text, nothing else.\"},\n",
    "                {\"role\": \"user\", \"content\": \"convert the following text to \"+f\"{lang}\"+f\" :\" +f\"\\n{msg}\"}\n",
    "                ])\n",
    "    \n",
    "    return  response.choices[0].message.content"
   ]
  },
  {
   "cell_type": "code",
   "execution_count": null,
   "id": "7f4632fb",
   "metadata": {},
   "outputs": [
    {
     "name": "stdout",
     "output_type": "stream",
     "text": [
      "* Running on local URL:  http://127.0.0.1:7861\n",
      "* To create a public link, set `share=True` in `launch()`.\n"
     ]
    },
    {
     "data": {
      "text/html": [
       "<div><iframe src=\"http://127.0.0.1:7861/\" width=\"100%\" height=\"500\" allow=\"autoplay; camera; microphone; clipboard-read; clipboard-write;\" frameborder=\"0\" allowfullscreen></iframe></div>"
      ],
      "text/plain": [
       "<IPython.core.display.HTML object>"
      ]
     },
     "metadata": {},
     "output_type": "display_data"
    },
    {
     "data": {
      "text/plain": []
     },
     "execution_count": 8,
     "metadata": {},
     "output_type": "execute_result"
    }
   ],
   "source": [
    "# User interface with gradio\n",
    "\n",
    "with gr.Blocks() as ui:\n",
    "\n",
    "    with gr.Row():\n",
    "        code= gr.Textbox(label=\"Enter your code here\", lines=5.5, min_width=300)\n",
    "        with gr.Column():\n",
    "            selected_mdl= gr.Dropdown(['gpt','gemma'], label= \"Select Model\", value=\"gemma\")\n",
    "            selected_lang= gr.Dropdown(['french','german','mandarin','korean'], label= \"Select Language\", value=\"french\")\n",
    "\n",
    "    with gr.Row():\n",
    "        submit= gr.Button('Submit')\n",
    "        translate_btn= gr.Button('Translate')\n",
    "\n",
    "    with gr.Row():\n",
    "        explained= gr.TextArea(label=\"Explaination:\", lines=8)\n",
    "        translated= gr.TextArea(label=\"Translated Response:\", lines=8)\n",
    "    \n",
    "    with gr.Row():\n",
    "        clear = gr.Button(\"Clear\")\n",
    "\n",
    "    submit.click(stream_model, inputs=[code, selected_mdl], outputs=[explained])\n",
    "    translate_btn.click(translate, inputs=[explained, selected_lang], outputs=[translated])\n",
    "    clear.click(lambda: [None,None,None], inputs=None, outputs=[code,explained,translated], queue=False)\n",
    "\n",
    "ui.launch()"
   ]
  },
  {
   "cell_type": "code",
   "execution_count": null,
   "id": "2cb22436",
   "metadata": {},
   "outputs": [],
   "source": []
  },
  {
   "cell_type": "code",
   "execution_count": null,
   "id": "a5d92a44",
   "metadata": {},
   "outputs": [],
   "source": []
  }
 ],
 "metadata": {
  "kernelspec": {
   "display_name": "tfvenv",
   "language": "python",
   "name": "python3"
  },
  "language_info": {
   "codemirror_mode": {
    "name": "ipython",
    "version": 3
   },
   "file_extension": ".py",
   "mimetype": "text/x-python",
   "name": "python",
   "nbconvert_exporter": "python",
   "pygments_lexer": "ipython3",
   "version": "3.11.4"
  }
 },
 "nbformat": 4,
 "nbformat_minor": 5
}
